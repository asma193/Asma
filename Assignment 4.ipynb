{
  "cells": [
    {
      "cell_type": "markdown",
      "source": [
        "\n",
        "## Assignment 4\n",
        "\n"
      ],
      "metadata": {
        "id": "NtEpY5ugzwSc"
      }
    },
    {
      "cell_type": "markdown",
      "source": [
        "## Multiplication table"
      ],
      "metadata": {
        "id": "GVS4oXWf0YSX"
      }
    },
    {
      "cell_type": "code",
      "source": [
        "num = int(input(\"Enter a num:\"))\n",
        "\n",
        "for i in range (1,11):\n",
        "  print(f\"{num} X {i} = {num * i}\")"
      ],
      "metadata": {
        "colab": {
          "base_uri": "https://localhost:8080/"
        },
        "id": "HjBhzORz0di9",
        "outputId": "8b70790f-c7b7-475a-967a-0a714f71b36a"
      },
      "execution_count": 3,
      "outputs": [
        {
          "output_type": "stream",
          "name": "stdout",
          "text": [
            "Enter a num:5\n",
            "5 X 1 = 5\n",
            "5 X 2 = 10\n",
            "5 X 3 = 15\n",
            "5 X 4 = 20\n",
            "5 X 5 = 25\n",
            "5 X 6 = 30\n",
            "5 X 7 = 35\n",
            "5 X 8 = 40\n",
            "5 X 9 = 45\n",
            "5 X 10 = 50\n"
          ]
        }
      ]
    }
  ],
  "metadata": {
    "colab": {
      "name": "Welcome To Colab",
      "provenance": []
    },
    "kernelspec": {
      "display_name": "Python 3",
      "name": "python3"
    }
  },
  "nbformat": 4,
  "nbformat_minor": 0
}