{
  "cells": [
    {
      "cell_type": "markdown",
      "source": [
        "## Assignment 9\n"
      ],
      "metadata": {
        "id": "efRKe4Y3PUZ2"
      }
    },
    {
      "cell_type": "markdown",
      "source": [
        "## Class vehicle"
      ],
      "metadata": {
        "id": "OudMGhuAitX0"
      }
    },
    {
      "cell_type": "code",
      "source": [
        "class Vehicle:\n",
        "    def __init__(self, make, model):\n",
        "        self.make = make\n",
        "        self.model = model\n",
        "\n",
        "class Car(Vehicle):\n",
        "    def __init__(self, make, model, num_doors):\n",
        "        super().__init__(make, model)\n",
        "        self.num_doors = num_doors\n",
        "\n",
        "    def display_info(self):\n",
        "        print(\"Car:\", self.make, self.model, \"Doors:\", self.num_doors)\n",
        "\n",
        "class Motorcycle(Vehicle):\n",
        "    def __init__(self, make, model, has_sidecar):\n",
        "        super().__init__(make, model)\n",
        "        self.has_sidecar = has_sidecar\n",
        "\n",
        "    def display_info(self):\n",
        "        print(\"Motorcycle:\", self.make, self.model, \"Sidecar:\", self.has_sidecar)\n",
        "\n",
        "# Demonstration\n",
        "car1 = Car(\"Toyota\", \"Corolla\", 4)\n",
        "bike1 = Motorcycle(\"Honda\", \"CG125\", False)\n",
        "\n",
        "car1.display_info()\n",
        "bike1.display_info()\n"
      ],
      "metadata": {
        "colab": {
          "base_uri": "https://localhost:8080/"
        },
        "id": "1rbXmgzxX9yP",
        "outputId": "c24f9a9b-7e54-4661-8ed0-dee932233154"
      },
      "execution_count": 27,
      "outputs": [
        {
          "output_type": "stream",
          "name": "stdout",
          "text": [
            "Car: Toyota Corolla Doors: 4\n",
            "Motorcycle: Honda CG125 Sidecar: False\n"
          ]
        }
      ]
    },
    {
      "cell_type": "code",
      "source": [],
      "metadata": {
        "id": "L5QbkTrna9K7"
      },
      "execution_count": null,
      "outputs": []
    }
  ],
  "metadata": {
    "colab": {
      "name": "Welcome To Colab",
      "provenance": []
    },
    "kernelspec": {
      "display_name": "Python 3",
      "name": "python3"
    }
  },
  "nbformat": 4,
  "nbformat_minor": 0
}