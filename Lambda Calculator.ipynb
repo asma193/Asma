{
  "cells": [
    {
      "cell_type": "markdown",
      "source": [
        "## Assignment 7"
      ],
      "metadata": {
        "id": "wZ8SliTeHuGG"
      }
    },
    {
      "cell_type": "markdown",
      "source": [
        "Calculator"
      ],
      "metadata": {
        "id": "GTX7xHgFZzam"
      }
    },
    {
      "cell_type": "code",
      "source": [
        "a = 10\n",
        "b = 12\n",
        "def calculator():\n",
        "    add = lambda a, b: a + b\n",
        "    sub = lambda a, b: a - b\n",
        "    mul = lambda a, b: a * b\n",
        "    div = lambda a, b: a / b if b != 0 else \"Division by zero not allowed\"\n",
        "\n",
        "print(\"Addition:\",a + b)\n",
        "print(\"Subtruction:\",a - b)\n",
        "print(\"Multiplication:\",a * b)\n",
        "print(\"Division:\",a / b)\n",
        "\n"
      ],
      "metadata": {
        "id": "vpCHFLJRZ3Kl",
        "outputId": "0dafe83c-4dcb-4e43-af6b-97cb9134bbc2",
        "colab": {
          "base_uri": "https://localhost:8080/"
        }
      },
      "execution_count": 20,
      "outputs": [
        {
          "output_type": "stream",
          "name": "stdout",
          "text": [
            "Addition: 22\n",
            "Subtruction: -2\n",
            "Multiplication: 120\n",
            "Division: 0.8333333333333334\n"
          ]
        }
      ]
    }
  ],
  "metadata": {
    "colab": {
      "name": "Welcome To Colab",
      "provenance": []
    },
    "kernelspec": {
      "display_name": "Python 3",
      "name": "python3"
    }
  },
  "nbformat": 4,
  "nbformat_minor": 0
}