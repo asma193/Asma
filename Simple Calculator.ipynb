{
  "cells": [
    {
      "cell_type": "markdown",
      "source": [
        "## Assignment 1"
      ],
      "metadata": {
        "id": "iwUVMybo_Mfg"
      }
    },
    {
      "cell_type": "markdown",
      "source": [
        "## Simple calculater"
      ],
      "metadata": {
        "id": "3Kviy9ql_avx"
      }
    },
    {
      "cell_type": "code",
      "source": [
        "num1  = float(input(\"Enter your first number:\"))\n",
        "num2 = float(input(\"Enter your second number:\"))\n",
        "\n",
        "addition =  num1 + num2\n",
        "subtruction = num1 - num2\n",
        "multiplication = num1 * num2\n",
        "division = num1 / num2\n",
        "\n",
        "print(\"This is the value of addtion:\",addition)\n",
        "print(\"This is the value of subtruction:\",subtruction)\n",
        "print(\"This is the value of multiplication\",multiplication)\n",
        "print(\"This is the value of division\",division)"
      ],
      "metadata": {
        "id": "KWyVCCjQ_gRL",
        "outputId": "89fc70c2-d1b6-4717-b6d3-c3aa735d6fc7",
        "colab": {
          "base_uri": "https://localhost:8080/"
        }
      },
      "execution_count": 4,
      "outputs": [
        {
          "output_type": "stream",
          "name": "stdout",
          "text": [
            "Enter your first number:2.5\n",
            "Enter your second number:5.5\n",
            "This is the value of addtion: 8.0\n",
            "This is the value of subtruction: -3.0\n",
            "This is the value of multiplication 13.75\n",
            "This is the value of division 0.45454545454545453\n"
          ]
        }
      ]
    }
  ],
  "metadata": {
    "colab": {
      "name": "Welcome To Colab",
      "provenance": []
    },
    "kernelspec": {
      "display_name": "Python 3",
      "name": "python3"
    }
  },
  "nbformat": 4,
  "nbformat_minor": 0
}