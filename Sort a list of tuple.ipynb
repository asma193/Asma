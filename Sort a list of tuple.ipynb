{
  "cells": [
    {
      "cell_type": "markdown",
      "source": [
        "## Assignment 5"
      ],
      "metadata": {
        "id": "wZ8SliTeHuGG"
      }
    },
    {
      "cell_type": "markdown",
      "source": [
        "## Sort a list of tuple"
      ],
      "metadata": {
        "id": "k_dWMdeQOkR8"
      }
    },
    {
      "cell_type": "code",
      "source": [
        "Student = [\n",
        "    (\"Asma\", 22),\n",
        "    (\"Kinza\",12),\n",
        "    (\"Mona\",15)\n",
        "]\n",
        "\n",
        "sorted_student = sorted(Student,key = lambda x: x[1] )\n",
        "\n",
        "print(Student)\n",
        "print(sorted_student)\n"
      ],
      "metadata": {
        "id": "Vtvub7J5Ow5Q",
        "outputId": "899b95cb-2366-48e5-e704-e6ee9619b579",
        "colab": {
          "base_uri": "https://localhost:8080/"
        }
      },
      "execution_count": 11,
      "outputs": [
        {
          "output_type": "stream",
          "name": "stdout",
          "text": [
            "[('Asma', 22), ('Kinza', 12), ('Mona', 15)]\n",
            "[('Kinza', 12), ('Mona', 15), ('Asma', 22)]\n"
          ]
        }
      ]
    },
    {
      "cell_type": "code",
      "source": [],
      "metadata": {
        "id": "XGFAsdsgQxG3"
      },
      "execution_count": null,
      "outputs": []
    }
  ],
  "metadata": {
    "colab": {
      "name": "Welcome To Colab",
      "provenance": []
    },
    "kernelspec": {
      "display_name": "Python 3",
      "name": "python3"
    }
  },
  "nbformat": 4,
  "nbformat_minor": 0
}