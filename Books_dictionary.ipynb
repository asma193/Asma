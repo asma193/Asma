{
  "cells": [
    {
      "cell_type": "markdown",
      "source": [
        "## Assignment 3"
      ],
      "metadata": {
        "id": "_rHn5Km8vMag"
      }
    },
    {
      "cell_type": "code",
      "source": [
        "books = {\n",
        "    \"title\": [\"Hamlet\"],\n",
        "    \"author\": [\"William Shakespeare\"],\n",
        "    \"year\": [1603],\n",
        "    \"price\": [800]\n",
        "}\n",
        "\n",
        "print(\"books dictionary:\",books)\n",
        "print(\"Book Title:\", books[\"title\"])\n",
        "print(\"Year of Publication:\", books[\"year\"])"
      ],
      "metadata": {
        "id": "7QMUwIzRvTKb",
        "outputId": "88e7de80-6cfa-4427-a73a-320d9f078a80",
        "colab": {
          "base_uri": "https://localhost:8080/"
        }
      },
      "execution_count": 2,
      "outputs": [
        {
          "output_type": "stream",
          "name": "stdout",
          "text": [
            "books dictionary: {'title': ['Hamlet'], 'author': ['William Shakespeare'], 'year': [1603], 'price': [800]}\n",
            "Book Title: ['Hamlet']\n",
            "Year of Publication: [1603]\n"
          ]
        }
      ]
    },
    {
      "cell_type": "code",
      "source": [],
      "metadata": {
        "id": "ma5owzUBxNey"
      },
      "execution_count": null,
      "outputs": []
    }
  ],
  "metadata": {
    "colab": {
      "name": "Welcome To Colab",
      "provenance": []
    },
    "kernelspec": {
      "display_name": "Python 3",
      "name": "python3"
    }
  },
  "nbformat": 4,
  "nbformat_minor": 0
}