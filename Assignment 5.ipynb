{
  "cells": [
    {
      "cell_type": "markdown",
      "source": [
        "## Assignment 5"
      ],
      "metadata": {
        "id": "Szia8ePf3e-s"
      }
    },
    {
      "cell_type": "code",
      "source": [
        "for i in range (1,101):\n",
        "  if i > 1:\n",
        "    for j in range (2,i):\n",
        "      if i % j == 0:\n",
        "        break\n",
        "    else:\n",
        "      print(i,\"is prime number\")"
      ],
      "metadata": {
        "colab": {
          "base_uri": "https://localhost:8080/"
        },
        "id": "ggj7rktfKWkp",
        "outputId": "3f32f4ac-4317-4fcc-ba0d-bd8391218108"
      },
      "execution_count": 75,
      "outputs": [
        {
          "output_type": "stream",
          "name": "stdout",
          "text": [
            "2 is prime number\n",
            "3 is prime number\n",
            "5 is prime number\n",
            "7 is prime number\n",
            "11 is prime number\n",
            "13 is prime number\n",
            "17 is prime number\n",
            "19 is prime number\n",
            "23 is prime number\n",
            "29 is prime number\n",
            "31 is prime number\n",
            "37 is prime number\n",
            "41 is prime number\n",
            "43 is prime number\n",
            "47 is prime number\n",
            "53 is prime number\n",
            "59 is prime number\n",
            "61 is prime number\n",
            "67 is prime number\n",
            "71 is prime number\n",
            "73 is prime number\n",
            "79 is prime number\n",
            "83 is prime number\n",
            "89 is prime number\n",
            "97 is prime number\n"
          ]
        }
      ]
    },
    {
      "cell_type": "code",
      "source": [],
      "metadata": {
        "id": "wVlGO1SHK_SU"
      },
      "execution_count": null,
      "outputs": []
    }
  ],
  "metadata": {
    "colab": {
      "name": "Welcome To Colab",
      "provenance": []
    },
    "kernelspec": {
      "display_name": "Python 3",
      "name": "python3"
    }
  },
  "nbformat": 4,
  "nbformat_minor": 0
}