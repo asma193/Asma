{
  "cells": [
    {
      "cell_type": "markdown",
      "source": [
        "##Assignment 7"
      ],
      "metadata": {
        "id": "ZhLtOn9Gavwb"
      }
    },
    {
      "cell_type": "code",
      "source": [
        "element = {x:x**1 for x in range(1,6)}\n",
        "\n",
        "print(element)"
      ],
      "metadata": {
        "colab": {
          "base_uri": "https://localhost:8080/"
        },
        "id": "-dIzjPxpaztC",
        "outputId": "de7ead72-6fb5-4bdd-8c37-0ec35660ba8e"
      },
      "execution_count": 1,
      "outputs": [
        {
          "output_type": "stream",
          "name": "stdout",
          "text": [
            "{1: 1, 2: 2, 3: 3, 4: 4, 5: 5}\n"
          ]
        }
      ]
    },
    {
      "cell_type": "code",
      "source": [],
      "metadata": {
        "id": "2FBJXF7pbFL6"
      },
      "execution_count": null,
      "outputs": []
    }
  ],
  "metadata": {
    "colab": {
      "name": "Welcome To Colab",
      "provenance": []
    },
    "kernelspec": {
      "display_name": "Python 3",
      "name": "python3"
    }
  },
  "nbformat": 4,
  "nbformat_minor": 0
}