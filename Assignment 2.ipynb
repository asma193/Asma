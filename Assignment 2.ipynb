{
  "cells": [
    {
      "cell_type": "markdown",
      "source": [
        "## Assignment 2"
      ],
      "metadata": {
        "id": "Tdfbo5adhAAn"
      }
    },
    {
      "cell_type": "markdown",
      "source": [
        "##  Simple Caculater"
      ],
      "metadata": {
        "id": "IYubpvtLhGMl"
      }
    },
    {
      "cell_type": "code",
      "source": [
        "Text1 = float(input(\"what is your school time?:\"))\n",
        "Text2 = float(input(\"what is your lunch time?:\"))\n",
        "Name = str(input(\"Enter your name:\"))\n",
        "\n",
        "print(Text1)\n",
        "print(Text2)\n",
        "print(Name)\n"
      ],
      "metadata": {
        "colab": {
          "base_uri": "https://localhost:8080/"
        },
        "id": "owPF_3YThL-g",
        "outputId": "cfdb2289-0da5-4932-ebe6-d6f9bcc5d687"
      },
      "execution_count": 1,
      "outputs": [
        {
          "output_type": "stream",
          "name": "stdout",
          "text": [
            "what is your school time?:8\n",
            "what is your lunch time?:12\n",
            "Enter your name:asma\n",
            "8.0\n",
            "12.0\n",
            "asma\n"
          ]
        }
      ]
    },
    {
      "cell_type": "code",
      "source": [],
      "metadata": {
        "id": "gQwSJZN3iSYB"
      },
      "execution_count": 1,
      "outputs": []
    }
  ],
  "metadata": {
    "colab": {
      "name": "Welcome To Colab",
      "provenance": []
    },
    "kernelspec": {
      "display_name": "Python 3",
      "name": "python3"
    }
  },
  "nbformat": 4,
  "nbformat_minor": 0
}