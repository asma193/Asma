{
  "cells": [
    {
      "cell_type": "markdown",
      "source": [
        "## Assignment 2"
      ],
      "metadata": {
        "id": "DDOldbZqwVDE"
      }
    },
    {
      "cell_type": "markdown",
      "source": [
        "## Fruit list of tuple"
      ],
      "metadata": {
        "id": "XcjCM1m-wZHw"
      }
    },
    {
      "cell_type": "code",
      "source": [
        "friuts = ([\"Apple\",\"Grapes\",\"Mango\",\"Orange\",\"Pear\"])\n",
        "\n",
        "friuts[1] = \"Banana\"\n",
        "\n",
        "print(friuts[2])\n",
        "print(friuts)\n"
      ],
      "metadata": {
        "colab": {
          "base_uri": "https://localhost:8080/"
        },
        "id": "dp0hGiP0wX11",
        "outputId": "e52b1adf-2606-4f5c-edf7-4996ef53f046"
      },
      "execution_count": 8,
      "outputs": [
        {
          "output_type": "stream",
          "name": "stdout",
          "text": [
            "Mango\n",
            "['Apple', 'Banana', 'Mango', 'Orange', 'Pear']\n"
          ]
        }
      ]
    }
  ],
  "metadata": {
    "colab": {
      "name": "Welcome To Colab",
      "provenance": []
    },
    "kernelspec": {
      "display_name": "Python 3",
      "name": "python3"
    }
  },
  "nbformat": 4,
  "nbformat_minor": 0
}