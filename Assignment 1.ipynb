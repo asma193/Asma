{
  "cells": [
    {
      "cell_type": "markdown",
      "source": [
        "## Assignment 1"
      ],
      "metadata": {
        "id": "oGDIHTHahJfh"
      }
    },
    {
      "cell_type": "code",
      "source": [
        "num1 = float(input(\"Enter your first number:\"))\n",
        "num2 = float(input(\"Enter your first number:\"))\n",
        "\n",
        "addition = num1 + num2\n",
        "subtruction = num1 -num2\n",
        "multiplication = num1 * num2\n",
        "division = num1 / num2\n",
        "\n",
        "print(\"Addition:\",addition)\n",
        "print(\"Subtruction:\",subtruction)\n",
        "print(\"Multiplication:\",multiplication)\n",
        "print(\"Division:\",division)\n"
      ],
      "metadata": {
        "colab": {
          "base_uri": "https://localhost:8080/"
        },
        "id": "gyuzdjk7hNvu",
        "outputId": "5855f0ee-d1ab-4b3f-b410-adf6be150111"
      },
      "execution_count": 3,
      "outputs": [
        {
          "output_type": "stream",
          "name": "stdout",
          "text": [
            "Enter your first number:12\n",
            "Enter your first number:24\n",
            "Addition: 36.0\n",
            "Subtruction: -12.0\n",
            "Multiplication: 288.0\n",
            "Division: 0.5\n"
          ]
        }
      ]
    }
  ],
  "metadata": {
    "colab": {
      "name": "Welcome To Colab",
      "provenance": []
    },
    "kernelspec": {
      "display_name": "Python 3",
      "name": "python3"
    }
  },
  "nbformat": 4,
  "nbformat_minor": 0
}