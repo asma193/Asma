{
  "cells": [
    {
      "cell_type": "markdown",
      "source": [
        "## Assignment 8"
      ],
      "metadata": {
        "id": "efRKe4Y3PUZ2"
      }
    },
    {
      "cell_type": "markdown",
      "source": [
        "## Class Bnakaccount"
      ],
      "metadata": {
        "id": "fJKSth6gPdc-"
      }
    },
    {
      "cell_type": "code",
      "source": [
        "class BankAccount:\n",
        "    def __init__(self, account_holder, balance=0.0):\n",
        "        self.account_holder = account_holder\n",
        "        self.balance = balance\n",
        "\n",
        "    def deposit(self, amount):\n",
        "        self.balance += amount\n",
        "        print(f\"{amount} is deposited. New balance is {self.balance}\")\n",
        "\n",
        "    def withdraw(self, amount):\n",
        "        if amount > self.balance:\n",
        "            print(\"Insufficient funds\")\n",
        "        else:\n",
        "            self.balance -= amount\n",
        "            print(f\"{amount} is withdrawn. New balance is {self.balance}\")\n",
        "\n",
        "    def display_balance(self):\n",
        "        print(f\"Account Holder: {self.account_holder}, Balance: {self.balance}\")\n"
      ],
      "metadata": {
        "id": "Q54AciSZWT2I"
      },
      "execution_count": 22,
      "outputs": []
    },
    {
      "cell_type": "code",
      "source": [
        "account101 = BankAccount(\"Asma\", 500)\n",
        "print(account101)\n",
        "account101.deposit(330)\n",
        "account101.withdraw(150)\n",
        "account101.display_balance()\n"
      ],
      "metadata": {
        "id": "6BYeG1lEXmJQ",
        "outputId": "9a76e695-d952-4c36-f381-d4f1e7bbd448",
        "colab": {
          "base_uri": "https://localhost:8080/"
        }
      },
      "execution_count": 25,
      "outputs": [
        {
          "output_type": "stream",
          "name": "stdout",
          "text": [
            "<__main__.BankAccount object at 0x7c98c0d2fb60>\n",
            "330 is deposited. New balance is 830\n",
            "150 is withdrawn. New balance is 680\n",
            "Account Holder: Asma, Balance: 680\n"
          ]
        }
      ]
    },
    {
      "cell_type": "code",
      "source": [],
      "metadata": {
        "id": "1rbXmgzxX9yP"
      },
      "execution_count": null,
      "outputs": []
    }
  ],
  "metadata": {
    "colab": {
      "name": "Welcome To Colab",
      "provenance": []
    },
    "kernelspec": {
      "display_name": "Python 3",
      "name": "python3"
    }
  },
  "nbformat": 4,
  "nbformat_minor": 0
}