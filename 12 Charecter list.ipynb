{
  "cells": [
    {
      "cell_type": "markdown",
      "source": [
        "## Assignment 6"
      ],
      "metadata": {
        "id": "wZ8SliTeHuGG"
      }
    },
    {
      "cell_type": "markdown",
      "source": [
        "## 12 Character list"
      ],
      "metadata": {
        "id": "MpBzltWzSwtz"
      }
    },
    {
      "cell_type": "code",
      "source": [
        "# Extract words with more than 12 characters using lambda + filter\n",
        "\n",
        "def extract_words():\n",
        "    words = [\n",
        "        \"artificial\", \"internationalization\", \"chatgpt\",\n",
        "        \"extraordinary\", \"computer\", \"responsibilities\",\n",
        "        \"understanding\", \"programming\", \"mathematics\",\n",
        "        \"communication\", \"encyclopedia\", \"transformation\"\n",
        "    ]\n",
        "\n",
        "    # filter words whose length > 12\n",
        "    upper_word = list(filter(lambda w: len(w) > 12, words))\n",
        "\n",
        "    print( words)\n",
        "    print(\"Extracted Words:\", upper_word)\n",
        "\n",
        "\n",
        "# Function Call\n",
        "extract_words()\n"
      ],
      "metadata": {
        "id": "YXPq-XGVUrV6",
        "outputId": "51b4fbf9-7bae-40d8-8784-850f79301239",
        "colab": {
          "base_uri": "https://localhost:8080/"
        }
      },
      "execution_count": 19,
      "outputs": [
        {
          "output_type": "stream",
          "name": "stdout",
          "text": [
            "['artificial', 'internationalization', 'chatgpt', 'extraordinary', 'computer', 'responsibilities', 'understanding', 'programming', 'mathematics', 'communication', 'encyclopedia', 'transformation']\n",
            "Extracted Words: ['internationalization', 'extraordinary', 'responsibilities', 'understanding', 'communication', 'transformation']\n"
          ]
        }
      ]
    },
    {
      "cell_type": "code",
      "source": [],
      "metadata": {
        "id": "W7P0z3pYXmeC"
      },
      "execution_count": null,
      "outputs": []
    }
  ],
  "metadata": {
    "colab": {
      "name": "Welcome To Colab",
      "provenance": []
    },
    "kernelspec": {
      "display_name": "Python 3",
      "name": "python3"
    }
  },
  "nbformat": 4,
  "nbformat_minor": 0
}