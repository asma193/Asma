{
  "cells": [
    {
      "cell_type": "markdown",
      "source": [
        "## Assignment 3"
      ],
      "metadata": {
        "id": "Tdfbo5adhAAn"
      }
    },
    {
      "cell_type": "markdown",
      "source": [
        "## Neasted loop statement"
      ],
      "metadata": {
        "id": "o4G7fYe7iy2u"
      }
    },
    {
      "cell_type": "code",
      "source": [
        "age = int(input(\"Enter your age:\"))\n",
        "is_student = input(\"Are you a student?(Yes/No):\").lower()\n",
        "\n",
        "if age < 5:\n",
        "  price = 0\n",
        "elif age < 12:\n",
        "  price = 10\n",
        "elif age < 17:\n",
        "  if is_student == \"Yes\":\n",
        "    price = 12\n",
        "  else:\n",
        "    price = 15\n",
        "elif age < 64:\n",
        "  if is_student == \"Yes\":\n",
        "    price = 18\n",
        "  else:\n",
        "      price = 25\n",
        "      print(\"Ticket price:\",price)"
      ],
      "metadata": {
        "id": "xrGQtTBxi7R6",
        "outputId": "2020e054-bd60-4695-9298-9cbae47ce762",
        "colab": {
          "base_uri": "https://localhost:8080/"
        }
      },
      "execution_count": 16,
      "outputs": [
        {
          "output_type": "stream",
          "name": "stdout",
          "text": [
            "Enter your age:17\n",
            "Are you a student?(Yes/No):yes\n",
            "Ticket price: 25\n"
          ]
        }
      ]
    },
    {
      "cell_type": "code",
      "source": [],
      "metadata": {
        "id": "g0DZehr_k_ud"
      },
      "execution_count": 16,
      "outputs": []
    }
  ],
  "metadata": {
    "colab": {
      "name": "Welcome To Colab",
      "provenance": []
    },
    "kernelspec": {
      "display_name": "Python 3",
      "name": "python3"
    }
  },
  "nbformat": 4,
  "nbformat_minor": 0
}