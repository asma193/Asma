{
  "cells": [
    {
      "cell_type": "markdown",
      "source": [
        "## Assignment 6"
      ],
      "metadata": {
        "id": "fzMRaOhE1h3f"
      }
    },
    {
      "cell_type": "markdown",
      "source": [
        "## Manage do to list"
      ],
      "metadata": {
        "id": "SE1SzOWE1rsB"
      }
    },
    {
      "cell_type": "code",
      "source": [
        "to_do_list = [\"Buy a food\",\"Go for  walk\",\"Do homework\",\"Read book\"]\n",
        "\n",
        "to_do_list.append('Schedule a meeting')\n",
        "\n",
        "to_do_list.remove('Read book')\n",
        "\n",
        "if \"Buy a food\" in to_do_list:\n",
        "\n",
        "  print(\"Do homework\")\n",
        "\n",
        "  print(to_do_list)\n"
      ],
      "metadata": {
        "colab": {
          "base_uri": "https://localhost:8080/"
        },
        "id": "sKA0fK4y1x0K",
        "outputId": "e53f85bf-67d2-4fe5-c1d2-6de60007f9b2"
      },
      "execution_count": 13,
      "outputs": [
        {
          "output_type": "stream",
          "name": "stdout",
          "text": [
            "Do homework\n",
            "['Buy a food', 'Go for  walk', 'Do homework', 'Schedule a meeting']\n"
          ]
        }
      ]
    },
    {
      "cell_type": "code",
      "source": [],
      "metadata": {
        "id": "NlNOg_EU5P5n"
      },
      "execution_count": null,
      "outputs": []
    }
  ],
  "metadata": {
    "colab": {
      "name": "Welcome To Colab",
      "provenance": []
    },
    "kernelspec": {
      "display_name": "Python 3",
      "name": "python3"
    }
  },
  "nbformat": 4,
  "nbformat_minor": 0
}