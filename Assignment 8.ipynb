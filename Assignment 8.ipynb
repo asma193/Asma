{
  "cells": [
    {
      "cell_type": "markdown",
      "source": [
        "### Assignment 8"
      ],
      "metadata": {
        "id": "tZyamdtJmRaR"
      }
    },
    {
      "cell_type": "markdown",
      "source": [
        "## calculate total cart"
      ],
      "metadata": {
        "id": "QRyjAHDrmYn8"
      }
    },
    {
      "cell_type": "code",
      "source": [
        "cart = [\n",
        "    {\"name\":\"apple\",\"price\":200,\"quantity\":7},\n",
        "    {\"name\":\"grapes\",\"price\":300,\"quantity\":5},\n",
        "    {\"name\":\"banana\",\"price\":100,\"quantity\":9},\n",
        "    {\"name\":\"mango\",\"price\":400,\"quantity\":12}\n",
        "]\n",
        "\n",
        "def calculate_total_cost(cart):\n",
        "  total_cost = 0\n",
        "  for item in cart:\n",
        "    total_cost = item['price']*item['quantity']\n",
        "    return total_cost"
      ],
      "metadata": {
        "id": "io47vHuAmeWq"
      },
      "execution_count": 35,
      "outputs": []
    },
    {
      "cell_type": "code",
      "source": [
        "total_cost = calculate_total_cost(cart)\n",
        "\n",
        "print(total_cost)\n",
        "\n"
      ],
      "metadata": {
        "id": "Jim5_-HLn-xU",
        "outputId": "2249fc2f-50ea-4e9a-bd24-b7c65f9e45ba",
        "colab": {
          "base_uri": "https://localhost:8080/"
        }
      },
      "execution_count": 36,
      "outputs": [
        {
          "output_type": "stream",
          "name": "stdout",
          "text": [
            "1400\n"
          ]
        }
      ]
    }
  ],
  "metadata": {
    "colab": {
      "name": "Welcome To Colab",
      "provenance": []
    },
    "kernelspec": {
      "display_name": "Python 3",
      "name": "python3"
    }
  },
  "nbformat": 4,
  "nbformat_minor": 0
}