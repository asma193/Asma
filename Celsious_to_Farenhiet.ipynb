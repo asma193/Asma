{
  "cells": [
    {
      "cell_type": "markdown",
      "source": [
        "## Assignment 4"
      ],
      "metadata": {
        "id": "wZ8SliTeHuGG"
      }
    },
    {
      "cell_type": "markdown",
      "source": [
        "## convert temperature"
      ],
      "metadata": {
        "id": "vU6DyfzsH0Yu"
      }
    },
    {
      "cell_type": "code",
      "source": [
        "Celsious = [1,2,12,13,5,6]\n",
        "fahrenheit = list(map(lambda celsious:(celsious * 9/5) + 32,Celsious))\n",
        "\n",
        "print(\"Celsious:\",Celsious)\n",
        "print(\"Fahrenheit:\",fahrenheit)"
      ],
      "metadata": {
        "id": "QUdIP7FoHzR8",
        "outputId": "f9a80c99-5738-40a7-be23-c5c0227e92bb",
        "colab": {
          "base_uri": "https://localhost:8080/"
        }
      },
      "execution_count": 8,
      "outputs": [
        {
          "output_type": "stream",
          "name": "stdout",
          "text": [
            "Celsious: [1, 2, 12, 13, 5, 6]\n",
            "Fahrenheit: [33.8, 35.6, 53.6, 55.4, 41.0, 42.8]\n"
          ]
        }
      ]
    }
  ],
  "metadata": {
    "colab": {
      "name": "Welcome To Colab",
      "provenance": []
    },
    "kernelspec": {
      "display_name": "Python 3",
      "name": "python3"
    }
  },
  "nbformat": 4,
  "nbformat_minor": 0
}